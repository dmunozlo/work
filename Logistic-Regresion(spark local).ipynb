{
 "cells": [
  {
   "cell_type": "markdown",
   "metadata": {},
   "source": [
    "### About the use case:- Recognition bird by songbird\n",
    "\n",
    "Using Spark, we obtain data in Kaggle about bird's songs. This file contains birdsongs about 91 bird species. We recover 5 species with 10 samples each bird. "
   ]
  },
  {
   "cell_type": "code",
   "execution_count": 1,
   "metadata": {},
   "outputs": [],
   "source": [
    "#!wget https://download.java.net/java/GA/jdk13.0.1/cec27d702aa74d5a8630c65ae61e4305/9/GPL/openjdk-13.0.1_linux-x64_bin.tar.gz\n",
    "#!tar xvfz openjdk-13.0.1_linux-x64_bin.tar.gz\n",
    "!wget -q https://www-us.apache.org/dist/spark/spark-2.4.4/spark-2.4.4-bin-hadoop2.7.tgz\n",
    "!tar xf spark-2.4.4-bin-hadoop2.7.tgz\n",
    "!pip install -q findspark\n",
    "import os\n",
    "#os.environ[\"JAVA_HOME\"] = \"/usr/lib/jvm/java-8-openjdk-amd64\"\n",
    "os.environ[\"SPARK_HOME\"] = \"/home/dsxuser/work/spark-2.4.4-bin-hadoop2.7\"\n",
    "import findspark\n",
    "findspark.init()\n",
    "from pyspark import SparkContext, SparkConf\n",
    "from pyspark.sql import SQLContext, SparkSession\n",
    "from pyspark.sql.types import StructType, StructField, DoubleType, IntegerType, StringType\n",
    "#sc = SparkSession.builder.master(\"local[*]\").getOrCreate()\n",
    "#Spark Contexto\n",
    "sc = SparkContext.getOrCreate(SparkConf().setMaster(\"local[*]\"))\n",
    "from pyspark.sql import SparkSession\n",
    "spark = SparkSession \\\n",
    "    .builder \\\n",
    "    .getOrCreate()"
   ]
  },
  {
   "cell_type": "code",
   "execution_count": 2,
   "metadata": {},
   "outputs": [],
   "source": [
    "from pyspark import SparkConf\n",
    "from pyspark.sql import SQLContext, SparkSession\n",
    "from pyspark.sql.types import StructType, StructField, DoubleType, IntegerType, StringType\n",
    "from pyspark.sql.functions import *\n",
    "from pyspark import SparkContext\n",
    "from pyspark.sql import SQLContext, SparkSession\n",
    "from pyspark.sql.window import *\n",
    "from pyspark.sql.functions import udf\n",
    "from pyspark.ml.linalg import Vectors, VectorUDT\n",
    "from pyspark.ml.classification import LogisticRegression\n",
    "from pyspark.ml.evaluation import MulticlassClassificationEvaluator\n",
    "from pyspark.ml.feature import VectorAssembler, Normalizer, StringIndexer, OneHotEncoder\n",
    "from pyspark.ml import Pipeline"
   ]
  },
  {
   "cell_type": "code",
   "execution_count": 3,
   "metadata": {},
   "outputs": [],
   "source": [
    "import scipy.io.wavfile as waves\n",
    "from scipy import signal\n",
    "\n",
    "import numpy as np\n",
    "\n",
    "from io import BytesIO\n",
    "\n",
    "import matplotlib.pyplot as plt\n",
    "\n",
    "try:\n",
    "    import librosa\n",
    "except:   \n",
    "    !pip install librosa==0.6.1\n",
    "    import librosa"
   ]
  },
  {
   "cell_type": "code",
   "execution_count": 4,
   "metadata": {},
   "outputs": [
    {
     "name": "stdout",
     "output_type": "stream",
     "text": [
      "Cloning into 'datos-publico'...\n",
      "remote: Enumerating objects: 45, done.\u001b[K\n",
      "remote: Counting objects: 100% (45/45), done.\u001b[K\n",
      "remote: Compressing objects: 100% (44/44), done.\u001b[K\n",
      "remote: Total 1544 (delta 21), reused 2 (delta 1), pack-reused 1499\u001b[K\n",
      "Receiving objects: 100% (1544/1544), 3.30 GiB | 45.80 MiB/s, done.\n",
      "Resolving deltas: 100% (45/45), done.\n",
      "Checking out files: 100% (451/451), done.\n"
     ]
    }
   ],
   "source": [
    "!rm -Rf pruebas\n",
    "!git clone https://github.com/dianillaml/datos-publico"
   ]
  },
  {
   "cell_type": "code",
   "execution_count": 5,
   "metadata": {},
   "outputs": [
    {
     "name": "stdout",
     "output_type": "stream",
     "text": [
      "--2020-01-15 17:31:36--  https://raw.githubusercontent.com/dianillaml/datos-publico/master/xeno-canto_ca-nv_index.csv\n",
      "Resolving raw.githubusercontent.com (raw.githubusercontent.com)... 151.101.60.133\n",
      "Connecting to raw.githubusercontent.com (raw.githubusercontent.com)|151.101.60.133|:443... connected.\n",
      "HTTP request sent, awaiting response... 200 OK\n",
      "Length: 2141683 (2.0M) [text/plain]\n",
      "Saving to: ‘xeno-canto_ca-nv_index.csv.5’\n",
      "\n",
      "100%[======================================>] 2,141,683   --.-K/s   in 0.09s   \n",
      "\n",
      "2020-01-15 17:31:36 (23.2 MB/s) - ‘xeno-canto_ca-nv_index.csv.5’ saved [2141683/2141683]\n",
      "\n"
     ]
    }
   ],
   "source": [
    "#content bird songs information file\n",
    "!wget 'https://raw.githubusercontent.com/dianillaml/datos-publico/master/xeno-canto_ca-nv_index.csv'"
   ]
  },
  {
   "cell_type": "code",
   "execution_count": 6,
   "metadata": {},
   "outputs": [
    {
     "data": {
      "text/plain": [
       "'/home/dsxuser/work'"
      ]
     },
     "execution_count": 6,
     "metadata": {},
     "output_type": "execute_result"
    }
   ],
   "source": [
    "os.getcwd()"
   ]
  },
  {
   "cell_type": "code",
   "execution_count": 7,
   "metadata": {},
   "outputs": [],
   "source": [
    "df = spark.read.format(\"csv\").load(\"file:///home//dsxuser//work//xeno-canto_ca-nv_index.csv\",header='true')"
   ]
  },
  {
   "cell_type": "code",
   "execution_count": 8,
   "metadata": {},
   "outputs": [],
   "source": [
    "df.createOrReplaceTempView('df')\n",
    "df_birdsong = spark.sql('select duration_seconds, english_cname, genus, species, file_name from df')\n",
    "#change file extension for manipulating\n",
    "df_birdsong = df_birdsong.withColumn('file_name', regexp_replace('file_name', 'mp3', 'wav'))"
   ]
  },
  {
   "cell_type": "code",
   "execution_count": 9,
   "metadata": {},
   "outputs": [],
   "source": [
    "d = '/home/dsxuser/work/datos-publico'\n",
    "os.chdir('/home/dsxuser/work/datos-publico')"
   ]
  },
  {
   "cell_type": "code",
   "execution_count": 10,
   "metadata": {},
   "outputs": [],
   "source": [
    "sqlContext = SQLContext(sc)"
   ]
  },
  {
   "cell_type": "code",
   "execution_count": 11,
   "metadata": {},
   "outputs": [],
   "source": [
    "#new dataframe with all files in folder\n",
    "\n",
    "files_df = sqlContext.createDataFrame(zip((os.listdir(d))), schema=['file_name']) \n",
    "#I only want wav files and remove the rest\n",
    "files_df = files_df.filter(files_df.file_name.like('%.wav%'))"
   ]
  },
  {
   "cell_type": "code",
   "execution_count": 12,
   "metadata": {},
   "outputs": [],
   "source": [
    "#new dataframe with the files found in folder \n",
    "final_df = files_df.join(df_birdsong, on=['file_name'], how='left_outer')"
   ]
  },
  {
   "cell_type": "code",
   "execution_count": 13,
   "metadata": {},
   "outputs": [],
   "source": [
    "# I create different dataframes \n",
    "audio_data = []     ## audio data for each wav file\n",
    "sampling_rate = []  ## audio rate\n",
    "file_names = []     ## name of wav file  \n",
    "name_bird = []      ## bird name\n",
    "\n",
    "for i in range(final_df.count()):\n",
    "#for i in range(0, 100):\n",
    "\n",
    "    audio_file = final_df.select(final_df.file_name).collect()[i][0]\n",
    "    name = final_df.select(final_df.english_cname).collect()[i][0]\n",
    "    \n",
    "    if audio_file is not None:\n",
    "        file_names.append(audio_file)\n",
    "        name_bird.append(name)\n",
    "        samplerate, data = waves.read(audio_file)\n",
    "        audio_data.append(data.astype(float))\n",
    "        sampling_rate.append(samplerate)   "
   ]
  },
  {
   "cell_type": "code",
   "execution_count": 14,
   "metadata": {},
   "outputs": [],
   "source": [
    "#normalize samplerate to same rate and mono\n",
    "for index in range(len(audio_data)):\n",
    "    \n",
    "    if (sampling_rate[index] != 44100):\n",
    "        audio_data[index] = librosa.resample(audio_data[index], sampling_rate[index], 44100)\n",
    "        sampling_rate[index] = 44100\n",
    "        \n",
    "def to_mono(data):\n",
    "    if data.ndim > 1:\n",
    "        data = np.mean(data, axis=1)\n",
    "    return data\n",
    "\n",
    "for index in range(len(audio_data)):\n",
    "    audio_data[index] = to_mono(audio_data[index])\n"
   ]
  },
  {
   "cell_type": "code",
   "execution_count": 15,
   "metadata": {},
   "outputs": [],
   "source": [
    "#To avoid overfitting, we divide the audios into parts of a second of time\n",
    "nuevo = []\n",
    "for index in range(len(audio_data)):\n",
    "    if len(audio_data[index]) > 44100:\n",
    "        partes = len(audio_data[index]) // 44100\n",
    "        total = partes * 44100 \n",
    "        nuevo.append(np.split(audio_data[index][0:total], partes))\n",
    "    else:\n",
    "        total = len(audio_data[index])\n",
    "        nuevo.append(np.split(audio_data[index][0:total], 1))\n",
    "        "
   ]
  },
  {
   "cell_type": "code",
   "execution_count": 16,
   "metadata": {},
   "outputs": [],
   "source": [
    "#Estimate power spectral density using Welch’s method\n",
    "fs=44100\n",
    "nperseg=128\n",
    "freq = []\n",
    "psd = []\n",
    "file = []\n",
    "bird=[]\n",
    "for i1 in range(len(nuevo)):\n",
    "    #print(len(nuevo))\n",
    "    for i2 in range(len(nuevo[i1])):\n",
    "        #print(len(nuevo[i1]), i1, i2)\n",
    "        file.append(file_names[i1])\n",
    "        bird.append(name_bird[i1])\n",
    "        #indice.append(i1)\n",
    "        f, p = signal.welch(nuevo[i1][i2], fs, 'hamming', nperseg)\n",
    "        #sample frequencies\n",
    "        freq.append(f)\n",
    "        #Power spectral density\n",
    "        psd.append(p.tolist())"
   ]
  },
  {
   "cell_type": "code",
   "execution_count": 82,
   "metadata": {},
   "outputs": [],
   "source": [
    "#create new dataframe with file wav, bird name and psd data for use in the model\n",
    "#df_valores = spark.createDataFrame(zip(file_names, name_bird, psd), schema=['file', 'name', 'values']) \n",
    "df_valores = spark.createDataFrame(zip(bird, file, psd), schema=['name','file','values']) \n",
    "#df_pd = pd.DataFrame(zip(bird, arr),columns = ['name', 'values'])"
   ]
  },
  {
   "cell_type": "code",
   "execution_count": 83,
   "metadata": {},
   "outputs": [],
   "source": [
    "num_classes = classes.count()"
   ]
  },
  {
   "cell_type": "code",
   "execution_count": 84,
   "metadata": {},
   "outputs": [
    {
     "name": "stdout",
     "output_type": "stream",
     "text": [
      "+--------------------+----+\n",
      "|                name|code|\n",
      "+--------------------+----+\n",
      "|    Wilson's Warbler|   1|\n",
      "|California Gnatca...|   2|\n",
      "|Yellow-breasted Chat|   3|\n",
      "|  Mountain Chickadee|   4|\n",
      "|Black-headed Gros...|   5|\n",
      "|          Marsh Wren|   6|\n",
      "|        Oak Titmouse|   7|\n",
      "|Yellow-billed Magpie|   8|\n",
      "|Nutting's Flycatcher|   9|\n",
      "|Blue-grey Gnatcat...|  10|\n",
      "|    Brewer's Sparrow|  11|\n",
      "|Orange-crowned Wa...|  12|\n",
      "|Nuttall's Woodpecker|  13|\n",
      "|MacGillivray's Wa...|  14|\n",
      "|    California Quail|  15|\n",
      "|    Northern Flicker|  16|\n",
      "|      Mountain Quail|  17|\n",
      "|             Wrentit|  18|\n",
      "+--------------------+----+\n",
      "\n"
     ]
    }
   ],
   "source": [
    "from pyspark.sql import functions as F\n",
    "from pyspark.sql.functions import row_number, lit\n",
    "classes = df_valores.select(F.col('name')).distinct()\n",
    "long = classes.count()\n",
    "w = Window().orderBy(lit('A'))\n",
    "classes = classes.withColumn(\"code\", row_number().over(w))\n",
    "classes.show()"
   ]
  },
  {
   "cell_type": "code",
   "execution_count": 85,
   "metadata": {},
   "outputs": [
    {
     "data": {
      "image/png": "[encoded data removed]",
      "text/plain": [
       "<Figure size 432x288 with 1 Axes>"
      ]
     },
     "metadata": {
      "needs_background": "light"
     },
     "output_type": "display_data"
    }
   ],
   "source": [
    "import collections\n",
    "samples = collections.Counter(bird)\n",
    "names = list(samples.keys())\n",
    "values = list(samples.values())\n",
    "\n",
    "ind = np.arange(num_classes)    # the x locations for the groups\n",
    "width = 1       # the width of the bars: can also be len(x) sequence\n",
    "\n",
    "plt.barh(ind, values, align='center', alpha=0.5)\n",
    "\n",
    "plt.ylabel('Bird', fontsize=16)\n",
    "plt.xlabel('Samples', fontsize=16)\n",
    "\n",
    "plt.title('Audio file samples by bird')\n",
    "\n",
    "plt.yticks(ind, names)\n",
    "#plt.xticks(values)\n",
    "#plt.legend((p1[0], p2[0]), ('Men', 'Women'))\n",
    "\n",
    "plt.show()"
   ]
  },
  {
   "cell_type": "code",
   "execution_count": null,
   "metadata": {},
   "outputs": [],
   "source": [
    "#transform power spectral density data to vector for work in the model\n",
    "to_vector = udf(lambda a: Vectors.dense(a), VectorUDT())\n",
    "data = df_valores.select(\"file\", \"name\", to_vector(\"values\").alias(\"values\"))"
   ]
  },
  {
   "cell_type": "code",
   "execution_count": null,
   "metadata": {},
   "outputs": [],
   "source": [
    "#ncode name column of labels to a column of label indices\n",
    "indexer = StringIndexer(inputCol=\"name\", outputCol=\"label\")\n",
    "indexed = indexer.fit(data).transform(data)"
   ]
  },
  {
   "cell_type": "code",
   "execution_count": null,
   "metadata": {},
   "outputs": [],
   "source": [
    "#map a categorical feature, represented as a label index, to a binary vector\n",
    "encoder = OneHotEncoder(inputCol = 'label', outputCol = 'categorized')\n",
    "encoded = encoder.transform(indexed)"
   ]
  },
  {
   "cell_type": "code",
   "execution_count": null,
   "metadata": {},
   "outputs": [],
   "source": [
    "#combine values columns into a single vector column\n",
    "vector = VectorAssembler(inputCols = ['values'], outputCol='features')\n",
    "vectored = vector.transform(encoded)"
   ]
  },
  {
   "cell_type": "code",
   "execution_count": null,
   "metadata": {},
   "outputs": [],
   "source": [
    "#transform a dataset of Vector rows, normalizing each Vector to have unit norm\n",
    "normalizer = Normalizer(inputCol=\"features\", outputCol=\"features_norm\", p=1.0)\n",
    "normalized = normalizer.transform(vectored)"
   ]
  },
  {
   "cell_type": "code",
   "execution_count": 62,
   "metadata": {},
   "outputs": [],
   "source": [
    "#split data into train and test\n",
    "splits = normalized.randomSplit([0.8, 0.2])\n",
    "df_train = splits[0]\n",
    "df_test = splits[1]"
   ]
  },
  {
   "cell_type": "code",
   "execution_count": null,
   "metadata": {},
   "outputs": [],
   "source": [
    "#apply Logistic Regression method\n",
    "lr = LogisticRegression(maxIter=10, regParam=0.3, elasticNetParam=0.8)\n",
    "model = lr.fit(df_train)"
   ]
  },
  {
   "cell_type": "code",
   "execution_count": null,
   "metadata": {},
   "outputs": [],
   "source": [
    "#create pipeline to run a sequence of the algorithms\n",
    "#pipeline = Pipeline(stages=[indexer, encoder, vector, normalizer, lr])"
   ]
  },
  {
   "cell_type": "code",
   "execution_count": 91,
   "metadata": {},
   "outputs": [
    {
     "data": {
      "text/plain": [
       "0.1140119760479042"
      ]
     },
     "execution_count": 91,
     "metadata": {},
     "output_type": "execute_result"
    }
   ],
   "source": [
    "#show the model accuracy with train data\n",
    "prediction = model.transform(df_train)\n",
    "binEval = MulticlassClassificationEvaluator().setMetricName(\"accuracy\").setPredictionCol(\"prediction\").setLabelCol(\"label\")\n",
    "binEval.evaluate(prediction) "
   ]
  },
  {
   "cell_type": "code",
   "execution_count": 92,
   "metadata": {},
   "outputs": [
    {
     "data": {
      "text/plain": [
       "0.11014492753623188"
      ]
     },
     "execution_count": 92,
     "metadata": {},
     "output_type": "execute_result"
    }
   ],
   "source": [
    "#show the model accuracy with test data\n",
    "prediction = model.transform(df_test)\n",
    "binEval = MulticlassClassificationEvaluator().setMetricName(\"accuracy\") .setPredictionCol(\"prediction\").setLabelCol(\"label\")   \n",
    "binEval.evaluate(prediction) "
   ]
  },
  {
   "cell_type": "code",
   "execution_count": 93,
   "metadata": {},
   "outputs": [
    {
     "name": "stdout",
     "output_type": "stream",
     "text": [
      "Coefficients: \n",
      "18 X 65 CSRMatrix\n",
      "\n",
      "Intercept: [0.7795962042213378,0.41410582221680275,0.3956157230114076,0.37360267185406904,0.34783671627440726,0.22104573312471046,0.11979729330988409,0.09279344124562998,0.00019786842271374424,-0.06416539419160334,-0.025511601262168823,-0.11209517547220459,-0.08406716769525656,-0.1624467400627527,-0.24158795931346605,-0.4145655933037357,-0.6194950374528483,-1.0206568049269265]\n",
      "objectiveHistory:\n",
      "2.8183541308703846\n",
      "2.8183540355353958\n",
      "2.818353821740694\n",
      "2.8183537848147777\n",
      "2.8183537462304766\n",
      "2.818353732021429\n",
      "2.8183537226218878\n",
      "2.8183537200816255\n",
      "2.818353719408188\n",
      "2.818353719329529\n",
      "False positive rate by label:\n",
      "label 0: 1.0\n",
      "label 1: 0.0\n",
      "label 2: 0.0\n",
      "label 3: 0.0\n",
      "label 4: 0.0\n",
      "label 5: 0.0\n",
      "label 6: 0.0\n",
      "label 7: 0.0\n",
      "label 8: 0.0\n",
      "label 9: 0.0\n",
      "label 10: 0.0\n",
      "label 11: 0.0\n",
      "label 12: 0.0\n",
      "label 13: 0.0\n",
      "label 14: 0.0\n",
      "label 15: 0.0\n",
      "label 16: 0.0\n",
      "label 17: 0.0\n",
      "True positive rate by label:\n",
      "label 0: 1.0\n",
      "label 1: 0.0\n",
      "label 2: 0.0\n",
      "label 3: 0.0\n",
      "label 4: 0.0\n",
      "label 5: 0.0\n",
      "label 6: 0.0\n",
      "label 7: 0.0\n",
      "label 8: 0.0\n",
      "label 9: 0.0\n",
      "label 10: 0.0\n",
      "label 11: 0.0\n",
      "label 12: 0.0\n",
      "label 13: 0.0\n",
      "label 14: 0.0\n",
      "label 15: 0.0\n",
      "label 16: 0.0\n",
      "label 17: 0.0\n",
      "Precision by label:\n",
      "label 0: 0.11216730038022814\n",
      "label 1: 0.0\n",
      "label 2: 0.0\n",
      "label 3: 0.0\n",
      "label 4: 0.0\n",
      "label 5: 0.0\n",
      "label 6: 0.0\n",
      "label 7: 0.0\n",
      "label 8: 0.0\n",
      "label 9: 0.0\n",
      "label 10: 0.0\n",
      "label 11: 0.0\n",
      "label 12: 0.0\n",
      "label 13: 0.0\n",
      "label 14: 0.0\n",
      "label 15: 0.0\n",
      "label 16: 0.0\n",
      "label 17: 0.0\n",
      "Recall by label:\n",
      "label 0: 1.0\n",
      "label 1: 0.0\n",
      "label 2: 0.0\n",
      "label 3: 0.0\n",
      "label 4: 0.0\n",
      "label 5: 0.0\n",
      "label 6: 0.0\n",
      "label 7: 0.0\n",
      "label 8: 0.0\n",
      "label 9: 0.0\n",
      "label 10: 0.0\n",
      "label 11: 0.0\n",
      "label 12: 0.0\n",
      "label 13: 0.0\n",
      "label 14: 0.0\n",
      "label 15: 0.0\n",
      "label 16: 0.0\n",
      "label 17: 0.0\n",
      "F-measure by label:\n",
      "label 0: 0.20170940170940171\n",
      "label 1: 0.0\n",
      "label 2: 0.0\n",
      "label 3: 0.0\n",
      "label 4: 0.0\n",
      "label 5: 0.0\n",
      "label 6: 0.0\n",
      "label 7: 0.0\n",
      "label 8: 0.0\n",
      "label 9: 0.0\n",
      "label 10: 0.0\n",
      "label 11: 0.0\n",
      "label 12: 0.0\n",
      "label 13: 0.0\n",
      "label 14: 0.0\n",
      "label 15: 0.0\n",
      "label 16: 0.0\n",
      "label 17: 0.0\n",
      "Accuracy: 0.11216730038022814\n",
      "FPR: 0.11216730038022814\n",
      "TPR: 0.11216730038022814\n",
      "F-measure: 0.022625199051054565\n",
      "Precision: 0.012581503274588329\n",
      "Recall: 0.11216730038022814\n"
     ]
    }
   ],
   "source": [
    "# Print the coefficients and intercept for multinomial logistic regression\n",
    "print(\"Coefficients: \\n\" + str(model.coefficientMatrix))\n",
    "print(\"Intercept: \" + str(model.interceptVector))\n",
    "\n",
    "trainingSummary = model.summary\n",
    "\n",
    "# Obtain the objective per iteration\n",
    "objectiveHistory = trainingSummary.objectiveHistory\n",
    "print(\"objectiveHistory:\")\n",
    "for objective in objectiveHistory:\n",
    "    print(objective)\n",
    "\n",
    "# for multiclass, we can inspect metrics on a per-label basis\n",
    "print(\"False positive rate by label:\")\n",
    "for i, rate in enumerate(trainingSummary.falsePositiveRateByLabel):\n",
    "    print(\"label %d: %s\" % (i, rate))\n",
    "\n",
    "print(\"True positive rate by label:\")\n",
    "for i, rate in enumerate(trainingSummary.truePositiveRateByLabel):\n",
    "    print(\"label %d: %s\" % (i, rate))\n",
    "\n",
    "print(\"Precision by label:\")\n",
    "for i, prec in enumerate(trainingSummary.precisionByLabel):\n",
    "    print(\"label %d: %s\" % (i, prec))\n",
    "\n",
    "print(\"Recall by label:\")\n",
    "for i, rec in enumerate(trainingSummary.recallByLabel):\n",
    "    print(\"label %d: %s\" % (i, rec))\n",
    "\n",
    "print(\"F-measure by label:\")\n",
    "for i, f in enumerate(trainingSummary.fMeasureByLabel()):\n",
    "    print(\"label %d: %s\" % (i, f))\n",
    "\n",
    "accuracy = trainingSummary.accuracy\n",
    "falsePositiveRate = trainingSummary.weightedFalsePositiveRate\n",
    "truePositiveRate = trainingSummary.weightedTruePositiveRate\n",
    "fMeasure = trainingSummary.weightedFMeasure()\n",
    "precision = trainingSummary.weightedPrecision\n",
    "recall = trainingSummary.weightedRecall\n",
    "print(\"Accuracy: %s\\nFPR: %s\\nTPR: %s\\nF-measure: %s\\nPrecision: %s\\nRecall: %s\"\n",
    "      % (accuracy, falsePositiveRate, truePositiveRate, fMeasure, precision, recall))"
   ]
  }
 ],
 "metadata": {
  "kernelspec": {
   "display_name": "Python 3",
   "language": "python",
   "name": "python3"
  },
  "language_info": {
   "codemirror_mode": {
    "name": "ipython",
    "version": 3
   },
   "file_extension": ".py",
   "mimetype": "text/x-python",
   "name": "python",
   "nbconvert_exporter": "python",
   "pygments_lexer": "ipython3",
   "version": "3.7.1"
  }
 },
 "nbformat": 4,
 "nbformat_minor": 1
}
